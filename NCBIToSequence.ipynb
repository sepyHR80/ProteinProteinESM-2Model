{
  "nbformat": 4,
  "nbformat_minor": 0,
  "metadata": {
    "colab": {
      "provenance": []
    },
    "kernelspec": {
      "name": "python3",
      "display_name": "Python 3"
    },
    "language_info": {
      "name": "python"
    }
  },
  "cells": [
    {
      "cell_type": "code",
      "execution_count": 1,
      "metadata": {
        "id": "htxEzMZvs2rV"
      },
      "outputs": [],
      "source": [
        "import requests\n",
        "\n",
        "def fetch_ncbi_refseq_sequence(refseq_id: str) -> str :\n",
        "\n",
        "  url = \"https://eutils.ncbi.nlm.nih.gov/entrez/eutils/efetch.fcgi\"\n",
        "  params = {\n",
        "        \"db\": \"protein\",\n",
        "        \"id\": refseq_id,\n",
        "        \"rettype\": \"fasta\",\n",
        "        \"retmode\": \"text\"\n",
        "  }\n",
        "\n",
        "  response = requests.get(url, params = params)\n",
        "  if response.status_code != 200:\n",
        "    raise ValueError(f\"Error fetching sequence from NCBI: {response.status_code}\")\n",
        "\n",
        "  fasta_data = response.text\n",
        "  lines = fasta_data.splitlines()\n",
        "  sequence = \"\".join(line.strip() for line in lines if not line.startswith(\">\"))\n",
        "  return sequence\n",
        "\n",
        "\n"
      ]
    },
    {
      "cell_type": "code",
      "source": [
        "print(fetch_ncbi_refseq_sequence(\"NP_285726\"))"
      ],
      "metadata": {
        "colab": {
          "base_uri": "https://localhost:8080/"
        },
        "id": "_HXYisWiWh-U",
        "outputId": "9d08ed6b-1a8e-446b-b2c5-f880ec32252e"
      },
      "execution_count": 5,
      "outputs": [
        {
          "output_type": "stream",
          "name": "stdout",
          "text": [
            "MIKSALLVLEDGTQFHGRAIGATGSAVGEVVFNTSMTGYQEILTDPSYSRQIVTLTYPHIGNVGTNDADEESSQVHAQGLVIRDLPLIASNFRNTEDLSSYLKRHNIVAIADIDTRKLTRLLREKGAQNGCIIAGDNPDAALALEKARAFPGLNGMDLAKEVTTAEAYSWTQGSWTLTGGLPEAKKEDELPFHVVAYDFGAKRNILRMLVDRGCRLTIVPAQTSAEDVLKMNPDGIFLSNGPGDPAPCDYAITAIQKFLETDIPVFGICLGHQLLALASGAKTVKMKFGHHGGNHPVKDVEKNVVMITAQNHGFAVDEATLPANLRVTHKSLFDGTLQGIHRTDKPAFSFQGHPEASPGPHDAAPLFDHFIELIEQYRKTAK\n"
          ]
        }
      ]
    }
  ]
}